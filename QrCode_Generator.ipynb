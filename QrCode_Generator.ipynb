{
  "nbformat": 4,
  "nbformat_minor": 0,
  "metadata": {
    "colab": {
      "name": "QrCode Generator",
      "provenance": [],
      "collapsed_sections": [],
      "include_colab_link": true
    },
    "kernelspec": {
      "name": "python3",
      "display_name": "Python 3"
    }
  },
  "cells": [
    {
      "cell_type": "markdown",
      "metadata": {
        "id": "view-in-github",
        "colab_type": "text"
      },
      "source": [
        "<a href=\"https://colab.research.google.com/github/iuricostalima/PythonShortDataAnalysis/blob/main/QrCode_Generator.ipynb\" target=\"_parent\"><img src=\"https://colab.research.google.com/assets/colab-badge.svg\" alt=\"Open In Colab\"/></a>"
      ]
    },
    {
      "cell_type": "markdown",
      "metadata": {
        "id": "9iNjACPM_86O"
      },
      "source": [
        "# Install Libraries"
      ]
    },
    {
      "cell_type": "code",
      "metadata": {
        "id": "afnZz5jLrNKq",
        "colab": {
          "base_uri": "https://localhost:8080/"
        },
        "outputId": "d39579ab-7094-4ff6-8b6e-4312e4c9f80e"
      },
      "source": [
        "!pip install Qrcode\n",
        " \n",
        "import matplotlib.pyplot as plt\n",
        " \n",
        "from PIL import Image, ImageDraw\n",
        "\n",
        "import qrcode\n",
        "from google.colab import files"
      ],
      "execution_count": 1,
      "outputs": [
        {
          "output_type": "stream",
          "text": [
            "Collecting Qrcode\n",
            "  Downloading qrcode-7.2.tar.gz (43 kB)\n",
            "\u001b[?25l\r\u001b[K     |███████▋                        | 10 kB 17.8 MB/s eta 0:00:01\r\u001b[K     |███████████████▎                | 20 kB 23.5 MB/s eta 0:00:01\r\u001b[K     |██████████████████████▉         | 30 kB 12.7 MB/s eta 0:00:01\r\u001b[K     |██████████████████████████████▌ | 40 kB 9.7 MB/s eta 0:00:01\r\u001b[K     |████████████████████████████████| 43 kB 865 kB/s \n",
            "\u001b[?25hBuilding wheels for collected packages: Qrcode\n",
            "  Building wheel for Qrcode (setup.py) ... \u001b[?25l\u001b[?25hdone\n",
            "  Created wheel for Qrcode: filename=qrcode-7.2-py3-none-any.whl size=39932 sha256=06b034713ccc346538ea3f3d9e647efab038344e689a50b26a4fc943c417b700\n",
            "  Stored in directory: /root/.cache/pip/wheels/f7/8f/9d/c58ece1af20863606f3fc0a84bc09021f542a2a18da99ba3ba\n",
            "Successfully built Qrcode\n",
            "Installing collected packages: Qrcode\n",
            "Successfully installed Qrcode-7.2\n"
          ],
          "name": "stdout"
        }
      ]
    },
    {
      "cell_type": "code",
      "metadata": {
        "id": "qk39k7_Mrc9K",
        "colab": {
          "base_uri": "https://localhost:8080/"
        },
        "outputId": "9665a6cf-c4b4-4fd0-8015-319531056701"
      },
      "source": [
        "# Types of Qrcode:\n",
        " \n",
        "# 1 - URL\n",
        "# 2 - E-mail address\n",
        "# 3 - Telephone numbers\n",
        "# 4 - vCard\n",
        "# 5 - Calendar Events 5 (Not Working)\n",
        "# 6 - Wi-Fi Network config (Android, iOS 11+)\n",
        "# 7 - Whatsapp\n",
        "# 8 - Anything\n",
        " \n",
        "x = 0\n",
        "while x < 1:\n",
        "  try:\n",
        "    typeqrcd = int(input('Input numbers 1 to 7:'))\n",
        "    if 0 < int(typeqrcd) < 9:\n",
        "      x += 1\n",
        "  except ValueError:\n",
        "    print(\"Oops!  That was no valid number.  Try again...\")\n",
        "  \n",
        " \n",
        "if typeqrcd == 1: # 1 - UR\n",
        "  qrurl = input(\"type here url\")\n",
        "  qrname = 'url'\n",
        "  phrase = ('http://' +str(qrurl))\n",
        "  # https://google.com/m \n",
        "  NamePhrase1 = phrase\n",
        " \n",
        "if typeqrcd == 2: # 2 - E-mail address\n",
        "  qremail = input('mailto:'+'type here email:')\n",
        "  qrname = 'email'\n",
        "  phrase = qremail  \n",
        "  # Address\n",
        "  # mailto:someone@yoursite.com \n",
        "  NamePhrase1 = phrase\n",
        " \n",
        "if typeqrcd == 3: # 3 - Telephone numbers\n",
        "  qrtelephone = input('tel:'+'type telephone number') \n",
        "  qrname = 'telephone'\n",
        "  phrase = qrtelephone\n",
        "  # NYC Directory assistance\n",
        "  # tel:+12125551212\n",
        "  NamePhrase1=phrase\n",
        " \n",
        "if typeqrcd == 4: # 4 - vCard\n",
        "  qrVCARDFN = input('first name')\n",
        "  qrVCARDLN = input('last name')\n",
        "  qrVCARDTL = input('title') \n",
        "  qrVCARDEML = input('email')\n",
        "  qrVCARDTEL = input('telephone')\n",
        "  qrVCARDHP = input('homepage')\n",
        "  \n",
        "  qrVcard = str('BEGIN:VCARD'+ '\\n'+\n",
        "  'VERSION:3.0'+'\\n'+\n",
        "  'N:'+(str(qrVCARDLN))+';'+(str(qrVCARDFN))+';;;'+'\\n'\n",
        "  'FN:'+(str((qrVCARDFN)+' '+(str(qrVCARDLN))))+'\\n'\n",
        "  'TITLE:'+(str(qrVCARDTL))+'\\n'\n",
        "  'EMAIL:'+(str(qrVCARDEML))+'\\n'\n",
        "  'TEL:'+(str(qrVCARDTEL))+'\\n'\n",
        "  'URL;TYPE=Homepage:'+(str(qrVCARDHP))+'\\n'\n",
        "  'END:VCARD'\n",
        "  )\n",
        "  qrname = 'Vcard'\n",
        "  phrase = qrVcard\n",
        "  \n",
        "  NamePhrase1= qrVCARDFN\n",
        "  # BEGIN:VCARD\n",
        "  # VERSION:3.0\n",
        "  # N:Owen;Sean;;;\n",
        "  # FN:Sean Owen\n",
        "  # TITLE:Software Engineer\n",
        "  # EMAIL;TYPE=INTERNET;TYPE=WORK;TYPE=PREF:srowen@google.com\n",
        "  # URL;TYPE=Homepage:https://example.com\n",
        "  # END:VCARD\n",
        " \n",
        "if typeqrcd == 5: # 5 - Calendar Events 5 (Not Working)\n",
        "  pass\n",
        "  # qrSummary = input('Summary')\n",
        "  # qrCalYear = input('Year(YYYY)')\n",
        "  # qrCalMonth = input('Month(MM)') \n",
        "  # qrCalDay = input('Day(DD)')\n",
        "  # qrCalTimeHour = input('Hour(TT')\n",
        "  # qrCalTimeMin = input('Minute(tt)')\n",
        " \n",
        "  # qrCalYearEnd = input('Year End(YYYY)')\n",
        "  # qrCalMonthEnd = input('Month End(MM)') \n",
        "  # qrCalDayEnd = input('Day End(DD)')\n",
        "  # qrCalTimeHourEnd = input('Hour End(TT)')\n",
        "  # qrCalTimeMinEnd = input('Minute End(tt)')\n",
        "  # qrVcard = str('BEGIN:VEVENT'+ '\\n'+\n",
        "  # 'SUMMARY:'+(str(qrSummary))+'\\n'+\n",
        "  # 'DTSTART:'+(str((qrCalYear)+(str(qrCalMonth)+(str(qrCalDay)))))+'T'+(str(qrCalTimeHour)+(str(qrCalTimeMin)+'00z'+'\\n'+\n",
        "  # 'DTEND:'+(str((qrCalYearEnd)+(str(qrCalMonthEnd)+(str(qrCalDayEnd)))))+'T'+(str(qrCalTimeHourEnd)+(str(qrCalTimeMinEnd)+'00z'+'\\n'+\n",
        "  # 'END:VEVENT'\n",
        "  # )\n",
        "  # qrname = 'CalendarEvent'\n",
        "  # phrase = qrCal\n",
        " \n",
        "if typeqrcd == 6: # 6 - Wi-Fi Network config (Android, iOS 11+)\n",
        "  qrWifiNetwork = input('type Network:')\n",
        "  qrWifiPW = input('type Password:')\n",
        "  qrWifi = str('WIFI:T:WPA;S:'+ str(qrWifiNetwork)+';P:'+ str(qrWifiPW)+';;')\n",
        "  qrname = 'Wifi'\n",
        "  phrase = qrWifi\n",
        " \n",
        "  NamePhrase1 = qrWifiNetwork\n",
        " \n",
        "if typeqrcd == 7: # 7 - Whatsapp\n",
        "  qrurl = input(\"type whatsapp number here\")\n",
        "  qrname = 'whatsapp'\n",
        "  phrase = ('https://api.whatsapp.com/send?phone=+55' +str(qrurl))\n",
        "  # https://google.com/m \n",
        "  NamePhrase1 = phrase\n",
        " \n",
        " \n",
        "if typeqrcd == 8: # 8 - Anything\n",
        "  qrurl = input(\"type/paste txt\")\n",
        "  qrname = 'text'\n",
        "  phrase = (str(qrurl))\n",
        "  # https://google.com/m \n",
        "  NamePhrase1 = phrase\n",
        " \n",
        "  #WIFI:T:WPA;S:mynetwork;P:mypass;;"
      ],
      "execution_count": 2,
      "outputs": [
        {
          "output_type": "stream",
          "text": [
            "Input numbers 1 to 7:6\n",
            "type Network:ExampleNetwork\n",
            "type Password:NetworkPassword\n"
          ],
          "name": "stdout"
        }
      ]
    },
    {
      "cell_type": "code",
      "metadata": {
        "id": "MOoGCamrzMwI",
        "colab": {
          "base_uri": "https://localhost:8080/",
          "height": 444
        },
        "outputId": "c972a386-f241-4da7-da6e-66ee908c0ad1"
      },
      "source": [
        "img = qrcode.make(phrase)\n",
        "# img.show(title=\"NETGEAR-Guest\")\n",
        "# img_draw.save(str(qrname)+'.png')\n",
        "# files.download(str(qrname)+'.png')\n",
        "print(img.format, img.size, img.mode)\n",
        "img"
      ],
      "execution_count": 3,
      "outputs": [
        {
          "output_type": "stream",
          "text": [
            "None (410, 410) 1\n"
          ],
          "name": "stdout"
        },
        {
          "output_type": "execute_result",
          "data": {
            "image/png": "[encoded data removed]",
            "text/plain": [
              "<qrcode.image.pil.PilImage at 0x7f84cc266f90>"
            ]
          },
          "metadata": {
            "tags": []
          },
          "execution_count": 3
        }
      ]
    }
  ]
}