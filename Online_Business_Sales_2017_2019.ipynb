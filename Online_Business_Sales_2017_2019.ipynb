{
  "nbformat": 4,
  "nbformat_minor": 0,
  "metadata": {
    "colab": {
      "name": "Online Business Sales 2017-2019.ipynb",
      "provenance": [],
      "authorship_tag": "ABX9TyNiipK1E5/xaSw1ATPyFdPl",
      "include_colab_link": true
    },
    "kernelspec": {
      "name": "python3",
      "display_name": "Python 3"
    },
    "language_info": {
      "name": "python"
    }
  },
  "cells": [
    {
      "cell_type": "markdown",
      "metadata": {
        "id": "view-in-github",
        "colab_type": "text"
      },
      "source": [
        "<a href=\"https://colab.research.google.com/github/iuricostalima/PythonShortDataAnalysis/blob/main/Online_Business_Sales_2017_2019.ipynb\" target=\"_parent\"><img src=\"https://colab.research.google.com/assets/colab-badge.svg\" alt=\"Open In Colab\"/></a>"
      ]
    },
    {
      "cell_type": "markdown",
      "metadata": {
        "id": "4WEVatbhoUjJ"
      },
      "source": [
        "# An exploratory Data Analysis on \"Online Business Sales 2017-2019\"  "
      ]
    },
    {
      "cell_type": "code",
      "metadata": {
        "id": "HKuKl6gzWKnj"
      },
      "source": [
        "#source: https://www.kaggle.com/tylermorse/retail-business-sales-20172019\n",
        " \n",
        "!pip install opendatasets --upgrade --quiet\n",
        "\n",
        "# Import Libraries\n",
        "import opendatasets as od\n",
        "import pandas as pd\n",
        "import matplotlib_inline"
      ],
      "execution_count": 59,
      "outputs": []
    },
    {
      "cell_type": "markdown",
      "metadata": {
        "id": "VpxiXCo9qyE-"
      },
      "source": [
        "Downloading the DataSet"
      ]
    },
    {
      "cell_type": "code",
      "metadata": {
        "colab": {
          "base_uri": "https://localhost:8080/"
        },
        "id": "F2KXI9WdZof1",
        "outputId": "e349207c-65ee-4a62-8713-ed1722431840"
      },
      "source": [
        "url = 'https://www.kaggle.com/tylermorse/retail-business-sales-20172019'\n",
        "od.download(url)"
      ],
      "execution_count": 13,
      "outputs": [
        {
          "output_type": "stream",
          "text": [
            "Please provide your Kaggle credentials to download this dataset. Learn more: http://bit.ly/kaggle-creds\n",
            "Your Kaggle username: iurilima\n",
            "Your Kaggle Key: ··········\n"
          ],
          "name": "stdout"
        },
        {
          "output_type": "stream",
          "text": [
            "100%|██████████| 10.7k/10.7k [00:00<00:00, 6.49MB/s]"
          ],
          "name": "stderr"
        },
        {
          "output_type": "stream",
          "text": [
            "Downloading retail-business-sales-20172019.zip to ./retail-business-sales-20172019\n",
            "\n"
          ],
          "name": "stdout"
        },
        {
          "output_type": "stream",
          "text": [
            "\n"
          ],
          "name": "stderr"
        }
      ]
    },
    {
      "cell_type": "code",
      "metadata": {
        "colab": {
          "base_uri": "https://localhost:8080/"
        },
        "id": "jK-xUyXKZl1f",
        "outputId": "27b1505e-bee1-4f50-be9d-2dbf14e09111"
      },
      "source": [
        "%ls"
      ],
      "execution_count": 14,
      "outputs": [
        {
          "output_type": "stream",
          "text": [
            "adc.json  \u001b[0m\u001b[01;34mretail-business-sales-20172019\u001b[0m/  \u001b[01;34msample_data\u001b[0m/\n"
          ],
          "name": "stdout"
        }
      ]
    },
    {
      "cell_type": "code",
      "metadata": {
        "id": "9sljzTYefPGZ"
      },
      "source": [
        "Data_File_Name = '/content/retail-business-sales-20172019/business.retailsales.csv'\n",
        "Dt = pd.DataFrame(pd.read_csv(Data_File_Name))"
      ],
      "execution_count": 45,
      "outputs": []
    },
    {
      "cell_type": "markdown",
      "metadata": {
        "id": "TLSk8myergi2"
      },
      "source": [
        "Getting Info"
      ]
    },
    {
      "cell_type": "code",
      "metadata": {
        "colab": {
          "base_uri": "https://localhost:8080/"
        },
        "id": "ucXVHVihgEDi",
        "outputId": "c5bf0eef-4ccd-4030-9d4b-2077a627b96c"
      },
      "source": [
        "Dt.info()"
      ],
      "execution_count": 39,
      "outputs": [
        {
          "output_type": "stream",
          "text": [
            "<class 'pandas.core.frame.DataFrame'>\n",
            "RangeIndex: 1775 entries, 0 to 1774\n",
            "Data columns (total 6 columns):\n",
            " #   Column           Non-Null Count  Dtype  \n",
            "---  ------           --------------  -----  \n",
            " 0   Product Type     1767 non-null   object \n",
            " 1   Net Quantity     1775 non-null   int64  \n",
            " 2   Gross Sales      1775 non-null   float64\n",
            " 3   Discounts        1775 non-null   float64\n",
            " 4   Returns          1775 non-null   float64\n",
            " 5   Total Net Sales  1775 non-null   float64\n",
            "dtypes: float64(4), int64(1), object(1)\n",
            "memory usage: 83.3+ KB\n"
          ],
          "name": "stdout"
        }
      ]
    },
    {
      "cell_type": "markdown",
      "metadata": {
        "id": "niy64wF2qn23"
      },
      "source": [
        "Numeric View of the DataSet\n"
      ]
    },
    {
      "cell_type": "code",
      "metadata": {
        "colab": {
          "base_uri": "https://localhost:8080/"
        },
        "id": "Zoc14L-jgPmj",
        "outputId": "c4b97477-63a7-4263-dc0f-931279ed3e63"
      },
      "source": [
        "print(Dt.describe())"
      ],
      "execution_count": 32,
      "outputs": [
        {
          "output_type": "stream",
          "text": [
            "       Net Quantity   Gross Sales    Discounts      Returns  Total Net Sales\n",
            "count   1775.000000   1775.000000  1775.000000  1775.000000      1775.000000\n",
            "mean       3.712676    199.671746    -6.317623    -5.385437       187.968687\n",
            "std        6.243078    464.880638    20.903517    46.654269       414.547039\n",
            "min       -1.000000      0.000000  -594.000000 -1609.000000      -106.250000\n",
            "25%        1.000000     48.000000    -6.000000     0.000000        44.800000\n",
            "50%        2.000000    100.000000     0.000000     0.000000        96.000000\n",
            "75%        4.000000    185.500000     0.000000     0.000000       184.750000\n",
            "max       96.000000  14935.000000     0.000000     0.000000     12732.000000\n"
          ],
          "name": "stdout"
        }
      ]
    },
    {
      "cell_type": "markdown",
      "metadata": {
        "id": "EBmyFyzqnJKm"
      },
      "source": [
        "Analyze which product sold the most."
      ]
    },
    {
      "cell_type": "code",
      "metadata": {
        "colab": {
          "base_uri": "https://localhost:8080/",
          "height": 634
        },
        "id": "Q1tfj4VkmmyG",
        "outputId": "bc967a06-38f3-4263-96a9-618fc83023b2"
      },
      "source": [
        "Dt.groupby('Product Type').sum().sort_values(by='Total Net Sales', ascending=False)"
      ],
      "execution_count": 53,
      "outputs": [
        {
          "output_type": "execute_result",
          "data": {
            "text/html": [
              "<div>\n",
              "<style scoped>\n",
              "    .dataframe tbody tr th:only-of-type {\n",
              "        vertical-align: middle;\n",
              "    }\n",
              "\n",
              "    .dataframe tbody tr th {\n",
              "        vertical-align: top;\n",
              "    }\n",
              "\n",
              "    .dataframe thead th {\n",
              "        text-align: right;\n",
              "    }\n",
              "</style>\n",
              "<table border=\"1\" class=\"dataframe\">\n",
              "  <thead>\n",
              "    <tr style=\"text-align: right;\">\n",
              "      <th></th>\n",
              "      <th>Net Quantity</th>\n",
              "      <th>Gross Sales</th>\n",
              "      <th>Discounts</th>\n",
              "      <th>Returns</th>\n",
              "      <th>Total Net Sales</th>\n",
              "    </tr>\n",
              "    <tr>\n",
              "      <th>Product Type</th>\n",
              "      <th></th>\n",
              "      <th></th>\n",
              "      <th></th>\n",
              "      <th></th>\n",
              "      <th></th>\n",
              "    </tr>\n",
              "  </thead>\n",
              "  <tbody>\n",
              "    <tr>\n",
              "      <th>Basket</th>\n",
              "      <td>1461</td>\n",
              "      <td>143815.50</td>\n",
              "      <td>-4584.42</td>\n",
              "      <td>-4439.69</td>\n",
              "      <td>134791.39</td>\n",
              "    </tr>\n",
              "    <tr>\n",
              "      <th>Art &amp; Sculpture</th>\n",
              "      <td>1427</td>\n",
              "      <td>90316.60</td>\n",
              "      <td>-2955.82</td>\n",
              "      <td>-2879.93</td>\n",
              "      <td>84480.85</td>\n",
              "    </tr>\n",
              "    <tr>\n",
              "      <th>Jewelry</th>\n",
              "      <td>991</td>\n",
              "      <td>31048.00</td>\n",
              "      <td>-965.85</td>\n",
              "      <td>-509.20</td>\n",
              "      <td>29572.95</td>\n",
              "    </tr>\n",
              "    <tr>\n",
              "      <th>Home Decor</th>\n",
              "      <td>404</td>\n",
              "      <td>27114.55</td>\n",
              "      <td>-991.21</td>\n",
              "      <td>-423.35</td>\n",
              "      <td>25699.99</td>\n",
              "    </tr>\n",
              "    <tr>\n",
              "      <th>Kitchen</th>\n",
              "      <td>809</td>\n",
              "      <td>16096.00</td>\n",
              "      <td>-431.11</td>\n",
              "      <td>-328.07</td>\n",
              "      <td>15336.82</td>\n",
              "    </tr>\n",
              "    <tr>\n",
              "      <th>Christmas</th>\n",
              "      <td>575</td>\n",
              "      <td>15476.00</td>\n",
              "      <td>-345.19</td>\n",
              "      <td>-670.00</td>\n",
              "      <td>14460.81</td>\n",
              "    </tr>\n",
              "    <tr>\n",
              "      <th>Soapstone</th>\n",
              "      <td>199</td>\n",
              "      <td>4795.50</td>\n",
              "      <td>-96.91</td>\n",
              "      <td>-69.50</td>\n",
              "      <td>4629.09</td>\n",
              "    </tr>\n",
              "    <tr>\n",
              "      <th>Accessories</th>\n",
              "      <td>84</td>\n",
              "      <td>3892.40</td>\n",
              "      <td>-107.02</td>\n",
              "      <td>0.00</td>\n",
              "      <td>3785.38</td>\n",
              "    </tr>\n",
              "    <tr>\n",
              "      <th>Kids</th>\n",
              "      <td>140</td>\n",
              "      <td>3838.00</td>\n",
              "      <td>-116.66</td>\n",
              "      <td>0.00</td>\n",
              "      <td>3721.34</td>\n",
              "    </tr>\n",
              "    <tr>\n",
              "      <th>Recycled Art</th>\n",
              "      <td>99</td>\n",
              "      <td>3792.80</td>\n",
              "      <td>-88.64</td>\n",
              "      <td>0.00</td>\n",
              "      <td>3704.16</td>\n",
              "    </tr>\n",
              "    <tr>\n",
              "      <th>Skin Care</th>\n",
              "      <td>101</td>\n",
              "      <td>2609.50</td>\n",
              "      <td>-37.70</td>\n",
              "      <td>0.00</td>\n",
              "      <td>2571.80</td>\n",
              "    </tr>\n",
              "    <tr>\n",
              "      <th>Music</th>\n",
              "      <td>98</td>\n",
              "      <td>2643.50</td>\n",
              "      <td>-82.19</td>\n",
              "      <td>-142.41</td>\n",
              "      <td>2418.90</td>\n",
              "    </tr>\n",
              "    <tr>\n",
              "      <th>Fair Trade Gifts</th>\n",
              "      <td>110</td>\n",
              "      <td>2258.00</td>\n",
              "      <td>-53.33</td>\n",
              "      <td>0.00</td>\n",
              "      <td>2204.67</td>\n",
              "    </tr>\n",
              "    <tr>\n",
              "      <th>One-of-a-Kind</th>\n",
              "      <td>12</td>\n",
              "      <td>2180.00</td>\n",
              "      <td>-71.99</td>\n",
              "      <td>0.00</td>\n",
              "      <td>2108.01</td>\n",
              "    </tr>\n",
              "    <tr>\n",
              "      <th>Furniture</th>\n",
              "      <td>27</td>\n",
              "      <td>2034.00</td>\n",
              "      <td>-169.04</td>\n",
              "      <td>0.00</td>\n",
              "      <td>1864.96</td>\n",
              "    </tr>\n",
              "    <tr>\n",
              "      <th>Textiles</th>\n",
              "      <td>43</td>\n",
              "      <td>1889.00</td>\n",
              "      <td>-112.90</td>\n",
              "      <td>-97.00</td>\n",
              "      <td>1679.10</td>\n",
              "    </tr>\n",
              "    <tr>\n",
              "      <th>Easter</th>\n",
              "      <td>1</td>\n",
              "      <td>38.00</td>\n",
              "      <td>-3.80</td>\n",
              "      <td>0.00</td>\n",
              "      <td>34.20</td>\n",
              "    </tr>\n",
              "    <tr>\n",
              "      <th>Gift Baskets</th>\n",
              "      <td>1</td>\n",
              "      <td>19.50</td>\n",
              "      <td>0.00</td>\n",
              "      <td>0.00</td>\n",
              "      <td>19.50</td>\n",
              "    </tr>\n",
              "  </tbody>\n",
              "</table>\n",
              "</div>"
            ],
            "text/plain": [
              "                  Net Quantity  Gross Sales  ...  Returns  Total Net Sales\n",
              "Product Type                                 ...                          \n",
              "Basket                    1461    143815.50  ... -4439.69        134791.39\n",
              "Art & Sculpture           1427     90316.60  ... -2879.93         84480.85\n",
              "Jewelry                    991     31048.00  ...  -509.20         29572.95\n",
              "Home Decor                 404     27114.55  ...  -423.35         25699.99\n",
              "Kitchen                    809     16096.00  ...  -328.07         15336.82\n",
              "Christmas                  575     15476.00  ...  -670.00         14460.81\n",
              "Soapstone                  199      4795.50  ...   -69.50          4629.09\n",
              "Accessories                 84      3892.40  ...     0.00          3785.38\n",
              "Kids                       140      3838.00  ...     0.00          3721.34\n",
              "Recycled Art                99      3792.80  ...     0.00          3704.16\n",
              "Skin Care                  101      2609.50  ...     0.00          2571.80\n",
              "Music                       98      2643.50  ...  -142.41          2418.90\n",
              "Fair Trade Gifts           110      2258.00  ...     0.00          2204.67\n",
              "One-of-a-Kind               12      2180.00  ...     0.00          2108.01\n",
              "Furniture                   27      2034.00  ...     0.00          1864.96\n",
              "Textiles                    43      1889.00  ...   -97.00          1679.10\n",
              "Easter                       1        38.00  ...     0.00            34.20\n",
              "Gift Baskets                 1        19.50  ...     0.00            19.50\n",
              "\n",
              "[18 rows x 5 columns]"
            ]
          },
          "metadata": {
            "tags": []
          },
          "execution_count": 53
        }
      ]
    },
    {
      "cell_type": "code",
      "metadata": {
        "colab": {
          "base_uri": "https://localhost:8080/"
        },
        "id": "z8wBuZJ_mzWD",
        "outputId": "878badd6-2134-46bc-c29b-017bec1869b9"
      },
      "source": [
        "Dt.groupby('Product Type').size().sort_values(ascending=False)"
      ],
      "execution_count": 71,
      "outputs": [
        {
          "output_type": "execute_result",
          "data": {
            "text/plain": [
              "Product Type\n",
              "Basket              551\n",
              "Art & Sculpture     337\n",
              "Jewelry             210\n",
              "Kitchen             161\n",
              "Home Decor          131\n",
              "Christmas            73\n",
              "Soapstone            67\n",
              "Kids                 63\n",
              "Accessories          39\n",
              "Music                29\n",
              "Fair Trade Gifts     28\n",
              "Recycled Art         23\n",
              "Furniture            16\n",
              "Textiles             14\n",
              "One-of-a-Kind        12\n",
              "Skin Care            11\n",
              "Gift Baskets          1\n",
              "Easter                1\n",
              "dtype: int64"
            ]
          },
          "metadata": {
            "tags": []
          },
          "execution_count": 71
        }
      ]
    },
    {
      "cell_type": "markdown",
      "metadata": {
        "id": "0re46lJnq_zg"
      },
      "source": [
        "Visualization\n"
      ]
    },
    {
      "cell_type": "code",
      "metadata": {
        "colab": {
          "base_uri": "https://localhost:8080/",
          "height": 298
        },
        "id": "Fo7qAfZ-nrr7",
        "outputId": "f43135fe-9171-4074-c7cd-f7312fbd513e"
      },
      "source": [
        "Dt.groupby('Product Type').size().sort_values(ascending=True).plot.barh().set_title('Sales')"
      ],
      "execution_count": 70,
      "outputs": [
        {
          "output_type": "execute_result",
          "data": {
            "text/plain": [
              "Text(0.5, 1.0, 'Sales')"
            ]
          },
          "metadata": {
            "tags": []
          },
          "execution_count": 70
        },
        {
          "output_type": "display_data",
          "data": {
            "image/png": "[encoded data removed]",
            "text/plain": [
              "<Figure size 432x288 with 1 Axes>"
            ]
          },
          "metadata": {
            "tags": [],
            "needs_background": "light"
          }
        }
      ]
    }
  ]
}